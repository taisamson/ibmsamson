{
    "cells": [
        {
            "cell_type": "markdown", 
            "source": "<table style=\"border: none\" align=\"left\">\n   <tr style=\"border: none\">\n      <th style=\"border: none\"><font face=\"verdana\" size=\"5\" color=\"black\"><b>Recognition of hand-written digits with IBM Watson Machine Learning</b></th>\n      <th style=\"border: none\"><img src=\"https://github.com/pmservice/customer-satisfaction-prediction/blob/master/app/static/images/ml_icon_gray.png?raw=true\" alt=\"Watson Machine Learning icon\" height=\"40\" width=\"40\"></th>\n   </tr>\n   <tr style=\"border: none\">\n       <th style=\"border: none\"><img src=\"https://github.com/pmservice/wml-sample-models/raw/master/scikit-learn/hand-written-digits-recognition/images/numbers_banner-04.png\" width=\"600\" alt=\"Icon\"> </th>\n   </tr>\n</table>", 
            "metadata": {}
        }, 
        {
            "cell_type": "markdown", 
            "source": "This notebook contains steps and code to retrieve data from the IBM Data Science Experience Community, create a predictive model, and start scoring new data. This notebook introduces commands for retrieving, cleaning, and exploring data as well as pipeline creation, model training, model persistance to the Watson Machine Learning repository, model deployment, and scoring.\n\nSome familiarity with Python is helpful. This notebook uses Python 3.5 and scikit-learn 0.17 package.\n\nYou will use a toy dataset available from the [scikit-learn](http://scikit-learn.org/stable/index.html) Web site, **sklearn.datasets.load_digits**, which contains hand-written digits images. Use the toy dataset to recognize hand-written digits. Refer to the [Citations](#citations) for information about use of these images and scikit-learn modules.\n\n## Learning goals\n\nThe learning goals of this notebook are:\n\n-  Load a toy dataset from scikit-learn.\n-  Explore data.\n-  Prepare data for training and evaluation.\n-  Create a scikit-learn machine learning pipeline.\n-  Train and evaluate a model.\n-  Persist a pipeline and model in the Watson Machine Learning repository.\n-  Deploy a model for online scoring using the Wastson Machine Learning API.\n-  Score sample scoring data using the Watson Machine Learning API.\n-  Explore and visualize prediction result using the matplotlib package.\n\n\n## Contents\n\nThis notebook contains the following parts:\n\n1.\t[Setup](#setup)\n2.\t[Load and explore data](#load)\n3.\t[Create a scikit-learn model](#model)\n4.\t[Persist the model](#persistence)\n5.\t[Predict locally and visualize](#visualization)\n6.\t[Deploy and score in the cloud](#scoring)\n7.\t[Summary and next steps](#summary)", 
            "metadata": {}
        }, 
        {
            "cell_type": "markdown", 
            "source": "<a id=\"setup\"></a>\n## 1. Setup\n\nBefore you use the sample code in this notebook, you must perform the following setup task:\n\n-  Create a [Watson Machine Learning Service](https://console.ng.bluemix.net/catalog/services/ibm-watson-machine-learning/) instance (a free plan is offered). ", 
            "metadata": {}
        }, 
        {
            "cell_type": "markdown", 
            "source": "<a id=\"load\"></a>\n## 2. Load and explore data", 
            "metadata": {}
        }, 
        {
            "cell_type": "markdown", 
            "source": "In this section you will load the data from scikit-learn toy datasets and perform a basic exploration.", 
            "metadata": {}
        }, 
        {
            "cell_type": "markdown", 
            "source": "**Example**: First, you need to install required packages. You can do it by running the following code. Run it only one time.<BR><BR>\n!pip install sklearn --user <BR>", 
            "metadata": {}
        }, 
        {
            "cell_type": "code", 
            "outputs": [], 
            "execution_count": 18, 
            "metadata": {
                "collapsed": true
            }, 
            "source": "from sklearn import datasets\n\ndigits = datasets.load_digits()"
        }, 
        {
            "cell_type": "markdown", 
            "source": "The data set consists of 8x8 pixel images of hand-written digits. In the following step you will plot the first 5 images using the **matplotlib** library.", 
            "metadata": {}
        }, 
        {
            "cell_type": "code", 
            "outputs": [
                {
                    "output_type": "stream", 
                    "text": "[[  0.   0.   5. ...,   0.   0.   0.]\n [  0.   0.   0. ...,  10.   0.   0.]\n [  0.   0.   0. ...,  16.   9.   0.]\n ..., \n [  0.   0.   1. ...,   6.   0.   0.]\n [  0.   0.   2. ...,  12.   0.   0.]\n [  0.   0.  10. ...,  12.   1.   0.]]\n", 
                    "name": "stdout"
                }
            ], 
            "execution_count": 19, 
            "metadata": {}, 
            "source": "print(digits.data) "
        }, 
        {
            "cell_type": "code", 
            "outputs": [
                {
                    "execution_count": 20, 
                    "metadata": {}, 
                    "output_type": "execute_result", 
                    "data": {
                        "text/plain": "0"
                    }
                }
            ], 
            "execution_count": 20, 
            "metadata": {}, 
            "source": "digits.target[0]"
        }, 
        {
            "cell_type": "code", 
            "outputs": [
                {
                    "execution_count": 21, 
                    "metadata": {}, 
                    "output_type": "execute_result", 
                    "data": {
                        "text/plain": "array([[  0.,   0.,   0.,  12.,  13.,   5.,   0.,   0.],\n       [  0.,   0.,   0.,  11.,  16.,   9.,   0.,   0.],\n       [  0.,   0.,   3.,  15.,  16.,   6.,   0.,   0.],\n       [  0.,   7.,  15.,  16.,  16.,   2.,   0.,   0.],\n       [  0.,   0.,   1.,  16.,  16.,   3.,   0.,   0.],\n       [  0.,   0.,   1.,  16.,  16.,   6.,   0.,   0.],\n       [  0.,   0.,   1.,  16.,  16.,   6.,   0.,   0.],\n       [  0.,   0.,   0.,  11.,  16.,  10.,   0.,   0.]])"
                    }
                }
            ], 
            "execution_count": 21, 
            "metadata": {}, 
            "source": "digits.images[1]"
        }, 
        {
            "cell_type": "code", 
            "outputs": [
                {
                    "output_type": "display_data", 
                    "metadata": {}, 
                    "data": {
                        "image/png": "[encoded data removed]", 
                        "text/plain": "<matplotlib.figure.Figure at 0x7fdb5cce8a58>"
                    }
                }
            ], 
            "execution_count": 22, 
            "metadata": {}, 
            "source": "%matplotlib inline\nimport matplotlib.pyplot as plt\n\nimages_number = 10\nimages_and_labels = list(zip(digits.images, digits.target))\n\nfor i, (image, label) in enumerate(images_and_labels[:images_number]):\n    plt.subplot(2, images_number, i + 1)\n    plt.axis('off')\n    plt.imshow(image, cmap=plt.cm.gray_r, interpolation='nearest')\n    plt.title('%i' % label)"
        }, 
        {
            "cell_type": "markdown", 
            "source": "Let's display the first-digit data and label it using the `data` and `target` methods.", 
            "metadata": {}
        }, 
        {
            "cell_type": "code", 
            "outputs": [
                {
                    "output_type": "stream", 
                    "text": "[  0.   0.   0.  12.  13.   5.   0.   0.   0.   0.   0.  11.  16.   9.   0.\n   0.   0.   0.   3.  15.  16.   6.   0.   0.   0.   7.  15.  16.  16.   2.\n   0.   0.   0.   0.   1.  16.  16.   3.   0.   0.   0.   0.   1.  16.  16.\n   6.   0.   0.   0.   0.   1.  16.  16.   6.   0.   0.   0.   0.   0.  11.\n  16.  10.   0.   0.]\n", 
                    "name": "stdout"
                }
            ], 
            "execution_count": 23, 
            "metadata": {}, 
            "source": "print(digits.data[1])"
        }, 
        {
            "cell_type": "code", 
            "outputs": [
                {
                    "execution_count": 24, 
                    "metadata": {}, 
                    "output_type": "execute_result", 
                    "data": {
                        "text/plain": "0"
                    }
                }
            ], 
            "execution_count": 24, 
            "metadata": {}, 
            "source": "digits.target[0]"
        }, 
        {
            "cell_type": "markdown", 
            "source": "In next step you will count all the samples.", 
            "metadata": {}
        }, 
        {
            "cell_type": "code", 
            "outputs": [
                {
                    "output_type": "stream", 
                    "text": "Number of samples: 1797\n", 
                    "name": "stdout"
                }
            ], 
            "execution_count": 25, 
            "metadata": {}, 
            "source": "samples_count = len(digits.images)\nprint(\"Number of samples: \" + str(samples_count))"
        }, 
        {
            "cell_type": "markdown", 
            "source": "<a id=\"model\"></a>\n## 3. Create a scikit-learn machine learning model\n\nIn this section you will learn how to prepare data, create a scikit-learn machine learning pipeline, and train a model.", 
            "metadata": {}
        }, 
        {
            "cell_type": "markdown", 
            "source": "### 3.1: Prepare data\n\nIn this subsection you will split your data into train, test, and score data sets.", 
            "metadata": {}
        }, 
        {
            "cell_type": "code", 
            "outputs": [
                {
                    "output_type": "stream", 
                    "text": "Number of training records: 1257\nNumber of testing records : 360\nNumber of scoring records : 180\n", 
                    "name": "stdout"
                }
            ], 
            "execution_count": 26, 
            "metadata": {}, 
            "source": "train_data = digits.data[: int(0.7*samples_count)]\ntrain_labels = digits.target[: int(0.7*samples_count)]\n\ntest_data = digits.data[int(0.7*samples_count): int(0.9*samples_count)]\ntest_labels = digits.target[int(0.7*samples_count): int(0.9*samples_count)]\n\nscore_data = digits.data[int(0.9*samples_count): ]\n\n\nprint(\"Number of training records: \" + str(len(train_data)))\nprint(\"Number of testing records : \" + str(len(test_data)))\nprint(\"Number of scoring records : \" + str(len(score_data)))\n"
        }, 
        {
            "cell_type": "markdown", 
            "source": "As you can see our data has been successfully split into the following data sets: \n\n-  The train data set, which is the largest group, is used for training.\n-  The test data set will be used for model evaluation and is used to test the assumptions of the model.\n-  The score data set will be used for scoring in the cloud.", 
            "metadata": {}
        }, 
        {
            "cell_type": "markdown", 
            "source": "### 3.2: Create a pipeline and train a model", 
            "metadata": {}
        }, 
        {
            "cell_type": "markdown", 
            "source": "In this section you will create scikit-learn machine learning pipeline and then train the model.", 
            "metadata": {}
        }, 
        {
            "cell_type": "markdown", 
            "source": "In the first step you need to import the scikit-learn machine learning packages that will be needed in the subsequent steps.", 
            "metadata": {}
        }, 
        {
            "cell_type": "code", 
            "outputs": [], 
            "execution_count": 27, 
            "metadata": {
                "collapsed": true
            }, 
            "source": "from sklearn.pipeline import Pipeline\nfrom sklearn import preprocessing\nfrom sklearn import svm, metrics"
        }, 
        {
            "cell_type": "markdown", 
            "source": "Standardize features by removing the mean and scaling to unit variance.", 
            "metadata": {}
        }, 
        {
            "cell_type": "code", 
            "outputs": [], 
            "execution_count": 28, 
            "metadata": {
                "collapsed": true
            }, 
            "source": "scaler = preprocessing.StandardScaler()"
        }, 
        {
            "cell_type": "markdown", 
            "source": "Next, define estimators you want to use for classification. Support Vector Machines with radial basis function as kernel is used in the following example.", 
            "metadata": {}
        }, 
        {
            "cell_type": "code", 
            "outputs": [], 
            "execution_count": 29, 
            "metadata": {
                "collapsed": true
            }, 
            "source": "clf = svm.SVC(kernel='rbf')"
        }, 
        {
            "cell_type": "markdown", 
            "source": "Let's build the pipeline now. A pipeline consists of transformers and an estimator.", 
            "metadata": {}
        }, 
        {
            "cell_type": "code", 
            "outputs": [], 
            "execution_count": 30, 
            "metadata": {
                "collapsed": true
            }, 
            "source": "pipeline = Pipeline([('scaler', scaler), ('svc', clf)])"
        }, 
        {
            "cell_type": "markdown", 
            "source": "Now, you can train your Random Forest model by using the previously defined **pipeline** and **train data**.", 
            "metadata": {}
        }, 
        {
            "cell_type": "code", 
            "outputs": [], 
            "execution_count": 31, 
            "metadata": {
                "collapsed": true
            }, 
            "source": "model = pipeline.fit(train_data, train_labels)"
        }, 
        {
            "cell_type": "markdown", 
            "source": "You can check your **model quality** now. To evaluate the model, use the **test data**.", 
            "metadata": {}
        }, 
        {
            "cell_type": "markdown", 
            "source": "# my testing\npredicted = model.predict(test_data)\nprint (test_labels[17])\nprint (predicted[17])\n\nprint(\"Evaluation report: \\n\\n%s\" % metrics.classification_report(test_labels, predicted))", 
            "metadata": {}
        }, 
        {
            "cell_type": "markdown", 
            "source": "You can tune your model now to achieve better accuracy. For the sake of simplicity, in this example the tuning section is omitted.", 
            "metadata": {
                "collapsed": true
            }
        }, 
        {
            "cell_type": "markdown", 
            "source": "<a id=\"persistence\"></a>\n## 4. Persist the model", 
            "metadata": {
                "collapsed": true
            }
        }, 
        {
            "cell_type": "markdown", 
            "source": "In this section you will learn how to store your pipeline and model in the Watson Machine Learning repository by using python client libraries.", 
            "metadata": {}
        }, 
        {
            "cell_type": "markdown", 
            "source": "First, you must import client libraries.", 
            "metadata": {
                "collapsed": true
            }
        }, 
        {
            "cell_type": "code", 
            "outputs": [], 
            "execution_count": 13, 
            "metadata": {
                "collapsed": true
            }, 
            "source": "from repository.mlrepositoryclient import MLRepositoryClient\nfrom repository.mlrepositoryartifact import MLRepositoryArtifact\nfrom repository.mlrepository import MetaProps, MetaNames"
        }, 
        {
            "cell_type": "markdown", 
            "source": "Authenticate to Watson Machine Learning service on Bluemix.", 
            "metadata": {
                "collapsed": true
            }
        }, 
        {
            "cell_type": "markdown", 
            "source": "**Action**: Put authentication information from your instance of Watson Machine Learning service here.</div>", 
            "metadata": {}
        }, 
        {
            "cell_type": "code", 
            "outputs": [], 
            "execution_count": 14, 
            "metadata": {
                "collapsed": true
            }, 
            "source": "service_path = 'https://ibm-watson-ml.mybluemix.net'\nusername = '0ad1a1ee-1d53-4b2d-b656-c8de072b54c2'\npassword = '3d65ee2b-4355-4810-8c41-9c09aab92c1a'\ninstance_id = 'b7b72556-67a9-4a68-84e7-a753c199ad7b'"
        }, 
        {
            "cell_type": "markdown", 
            "source": "**Tip**: The `service_path`, `username`, and `password` values can be found on the **Service Credentials** tab of the service instance that you created in Bluemix.", 
            "metadata": {
                "collapsed": true
            }
        }, 
        {
            "cell_type": "code", 
            "outputs": [], 
            "execution_count": 15, 
            "metadata": {
                "collapsed": true
            }, 
            "source": "ml_repository_client = MLRepositoryClient(service_path)\nml_repository_client.authorize(username, password)"
        }, 
        {
            "cell_type": "markdown", 
            "source": "Create the model artifact (abstraction layer).", 
            "metadata": {}
        }, 
        {
            "cell_type": "code", 
            "outputs": [], 
            "execution_count": 16, 
            "metadata": {
                "collapsed": true
            }, 
            "source": "props = MetaProps({MetaNames.AUTHOR_NAME:\"IBM\", MetaNames.AUTHOR_EMAIL:\"ibm@ibm.com\"})"
        }, 
        {
            "cell_type": "code", 
            "outputs": [], 
            "execution_count": 17, 
            "metadata": {
                "collapsed": true
            }, 
            "source": "model_artifact = MLRepositoryArtifact(model, name=\"Hand-written digits recognition\", meta_props=props)"
        }, 
        {
            "cell_type": "markdown", 
            "source": "**Tip**: The `MLRepositoryArtifact` method expects a trained model object, training data, and a model name. (It is this model name that is displayed by the Watson Machine Learning service).", 
            "metadata": {}
        }, 
        {
            "cell_type": "markdown", 
            "source": "### 4.1: Save the pipeline and model", 
            "metadata": {}
        }, 
        {
            "cell_type": "markdown", 
            "source": "In this subsection you will learn how to save the pipeline and model artifacts to your Watson Machine Learning instance.", 
            "metadata": {}
        }, 
        {
            "cell_type": "code", 
            "outputs": [], 
            "execution_count": 18, 
            "metadata": {
                "collapsed": true
            }, 
            "source": "saved_model = ml_repository_client.models.save(model_artifact)"
        }, 
        {
            "cell_type": "markdown", 
            "source": "Retrieve the saved model metadata from Watson Machine Learning.", 
            "metadata": {}
        }, 
        {
            "cell_type": "markdown", 
            "source": "**Tip**: Use the `meta.available_props()` method to get the list of available props.", 
            "metadata": {}
        }, 
        {
            "cell_type": "code", 
            "outputs": [
                {
                    "execution_count": 19, 
                    "metadata": {}, 
                    "output_type": "execute_result", 
                    "data": {
                        "text/plain": "dict_keys(['lastUpdated', 'version', 'authorEmail', 'trainingDataRef', 'runtime', 'pipelineVersionHref', 'modelVersionHref', 'creationTime', 'modelType', 'authorName'])"
                    }
                }
            ], 
            "execution_count": 19, 
            "metadata": {}, 
            "source": "saved_model.meta.available_props()"
        }, 
        {
            "cell_type": "code", 
            "outputs": [
                {
                    "output_type": "stream", 
                    "text": "modelType: scikit-model-0.17.1\nruntime: python-3.5\ncreationTime: 2017-08-03 11:28:33.176000+00:00\nmodelVersionHref: https://ibm-watson-ml.mybluemix.net/v2/artifacts/models/f4441c59-c1e2-444e-b1f8-c573413decbc/versions/97648f79-2e65-4eb4-a71b-0fd255666d95\n", 
                    "name": "stdout"
                }
            ], 
            "execution_count": 20, 
            "metadata": {}, 
            "source": "print(\"modelType: \" + saved_model.meta.prop(\"modelType\"))\nprint(\"runtime: \" + saved_model.meta.prop(\"runtime\"))\nprint(\"creationTime: \" + str(saved_model.meta.prop(\"creationTime\")))\nprint(\"modelVersionHref: \" + saved_model.meta.prop(\"modelVersionHref\"))"
        }, 
        {
            "cell_type": "markdown", 
            "source": "**Tip**: The **modelVersionHref** variable is our model unique indentifier in the Watson Machine Learning repository.", 
            "metadata": {}
        }, 
        {
            "cell_type": "markdown", 
            "source": "### 4.2: Load the model", 
            "metadata": {}
        }, 
        {
            "cell_type": "markdown", 
            "source": "In this subsection you will learn how to load back the saved model from a specified instance of Watson Machine Learning.", 
            "metadata": {}
        }, 
        {
            "cell_type": "code", 
            "outputs": [], 
            "execution_count": 21, 
            "metadata": {
                "collapsed": true
            }, 
            "source": "loadedModelArtifact = ml_repository_client.models.get(saved_model.uid)"
        }, 
        {
            "cell_type": "markdown", 
            "source": "You can print the model name to make sure that model has been loaded correctly.", 
            "metadata": {}
        }, 
        {
            "cell_type": "code", 
            "outputs": [
                {
                    "output_type": "stream", 
                    "text": "Hand-written digits recognition\nf4441c59-c1e2-444e-b1f8-c573413decbc\n", 
                    "name": "stdout"
                }
            ], 
            "execution_count": 22, 
            "metadata": {}, 
            "source": "print(loadedModelArtifact.name)\nprint(saved_model.uid)"
        }, 
        {
            "cell_type": "markdown", 
            "source": "As you can see the name is correct. You have already learned how to save and load the model from the Watson Machine Learning repository.", 
            "metadata": {}
        }, 
        {
            "cell_type": "markdown", 
            "source": "<a id=\"visualization\"></a>\n## 5. Predict locally and visualize", 
            "metadata": {}
        }, 
        {
            "cell_type": "markdown", 
            "source": "In this section you will learn how to score test data by using the loaded model and visualize the prediction results by using the `plotly` package.", 
            "metadata": {}
        }, 
        {
            "cell_type": "markdown", 
            "source": "### 5.1: Make local prediction using previously loaded model and score data", 
            "metadata": {}
        }, 
        {
            "cell_type": "markdown", 
            "source": "In this subsection you will score the `predict_data` data set.", 
            "metadata": {}
        }, 
        {
            "cell_type": "code", 
            "outputs": [
                {
                    "output_type": "stream", 
                    "text": "[[  0.   0.   5. ...,   1.   0.   0.]\n [  0.   0.   6. ...,   9.   6.   2.]\n [  0.   0.   0. ...,   6.   0.   0.]\n ..., \n [  0.   0.   1. ...,   6.   0.   0.]\n [  0.   0.   2. ...,  12.   0.   0.]\n [  0.   0.  10. ...,  12.   1.   0.]]\n", 
                    "name": "stdout"
                }
            ], 
            "execution_count": 37, 
            "metadata": {}, 
            "source": "print(score_data)"
        }, 
        {
            "cell_type": "code", 
            "outputs": [], 
            "execution_count": 24, 
            "metadata": {
                "collapsed": true
            }, 
            "source": "predictions = loadedModelArtifact.model_instance().predict(score_data)"
        }, 
        {
            "cell_type": "markdown", 
            "source": "To print the prediction results, run the following code:", 
            "metadata": {}
        }, 
        {
            "cell_type": "code", 
            "outputs": [
                {
                    "output_type": "stream", 
                    "text": "[5 2 8 0 1 7 6 3 2 1 7 8 6 3 1 3 9 1 7 6 8 4 3 1 4 0 5 3 6 9 6 1 7 5 4 4 7\n 2 2 5 4 3 5 8 4 5 0 8 9 8 0 1 2 3 4 5 6 7 8 9 0 1 2 3 4 5 6 7 8 9 0 1 2 5\n 4 5 6 7 8 9 0 9 5 5 6 5 0 9 8 9 8 4 1 7 7 3 5 1 0 0 2 2 7 8 2 0 1 2 6 8 8\n 7 5 3 4 6 6 6 4 9 1 5 0 9 5 2 8 2 0 0 1 7 6 3 2 1 7 4 6 3 1 3 9 1 7 6 8 4\n 5 1 4 0 5 3 6 9 6 1 7 5 4 4 7 2 8 2 2 5 7 9 5 4 8 8 4 9 0 8 9 8]\n", 
                    "name": "stdout"
                }
            ], 
            "execution_count": 25, 
            "metadata": {}, 
            "source": "print(predictions)"
        }, 
        {
            "cell_type": "markdown", 
            "source": "### 5.2: Sample visualization of data with the `matplotlib` package", 
            "metadata": {}
        }, 
        {
            "cell_type": "code", 
            "outputs": [
                {
                    "output_type": "display_data", 
                    "metadata": {}, 
                    "data": {
                        "image/png": "[encoded data removed]", 
                        "text/plain": "<matplotlib.figure.Figure at 0x7fdf34645710>"
                    }
                }
            ], 
            "execution_count": 29, 
            "metadata": {}, 
            "source": "images_and_predictions = list(zip(digits.images[int(0.9*samples_count): ], predictions))\nfor i, (image, prediction) in enumerate(images_and_predictions[:4]):\n    plt.subplot(2, 4, i + 5)\n    plt.axis('off')\n    plt.imshow(image, cmap=plt.cm.gray_r, interpolation='nearest')\n    plt.title('Prediction: %i' % prediction)"
        }, 
        {
            "cell_type": "markdown", 
            "source": "<a id=\"scoring\"></a>\n## 6. Deploy and score in the cloud", 
            "metadata": {}
        }, 
        {
            "cell_type": "markdown", 
            "source": "In this section you will learn how to create online scoring and to score a new data record by using the Watson Machine Learning REST API. \nFor more information about REST APIs, see the [Swagger Documentation](http://watson-ml-api.mybluemix.net/).", 
            "metadata": {}
        }, 
        {
            "cell_type": "markdown", 
            "source": "To work with the Watson Machine Leraning REST API you must generate an access token. To do that you can use the following sample code:", 
            "metadata": {
                "collapsed": true
            }
        }, 
        {
            "cell_type": "code", 
            "outputs": [], 
            "execution_count": 30, 
            "metadata": {
                "collapsed": true
            }, 
            "source": "import urllib3, requests, json\n\nheaders = urllib3.util.make_headers(basic_auth='{}:{}'.format(username, password))\nurl = '{}/v3/identity/token'.format(service_path)\nresponse = requests.get(url, headers=headers)\nmltoken = json.loads(response.text).get('token')"
        }, 
        {
            "cell_type": "markdown", 
            "source": "### 6.1: Create the model deployment", 
            "metadata": {}
        }, 
        {
            "cell_type": "markdown", 
            "source": "Retrieve the `published_models` URL from the instance details.", 
            "metadata": {}
        }, 
        {
            "cell_type": "markdown", 
            "source": "#### Get instance details", 
            "metadata": {}
        }, 
        {
            "cell_type": "code", 
            "outputs": [
                {
                    "output_type": "stream", 
                    "text": "<Response [200]>\n{\"metadata\":{\"guid\":\"b7b72556-67a9-4a68-84e7-a753c199ad7b\",\"url\":\"https://ibm-watson-ml.mybluemix.net/v3/wml_instances/b7b72556-67a9-4a68-84e7-a753c199ad7b\",\"created_at\":\"2017-08-02T01:44:23.230Z\",\"modified_at\":\"2017-08-03T11:28:33.287Z\"},\"entity\":{\"source\":\"Bluemix\",\"published_models\":{\"url\":\"https://ibm-watson-ml.mybluemix.net/v3/wml_instances/b7b72556-67a9-4a68-84e7-a753c199ad7b/published_models\"},\"usage\":{\"expiration_date\":\"2017-09-01T00:00:00.000Z\",\"computation_time\":{\"limit\":18000,\"current\":0},\"model_count\":{\"limit\":200,\"current\":2},\"prediction_count\":{\"limit\":5000,\"current\":2},\"deployment_count\":{\"limit\":5,\"current\":1}},\"plan_id\":\"3f6acf43-ede8-413a-ac69-f8af3bb0cbfe\",\"status\":\"Active\",\"organization_guid\":\"e1b89db7-7bfe-4a11-b1c8-65fc04657160\",\"region\":\"us-south\",\"account\":{\"id\":\"500060782\",\"name\":\"Samson Tai's Account\",\"type\":\"TRIAL\"},\"owner\":{\"ibm_id\":\"120000EWNS\",\"email\":\"tais@hk1.ibm.com\",\"user_id\":\"46bb55f2-563d-4097-ad59-4d9c9b536911\",\"country_code\":\"HKG\",\"beta_user\":true},\"deployments\":{\"url\":\"https://ibm-watson-ml.mybluemix.net/v3/wml_instances/b7b72556-67a9-4a68-84e7-a753c199ad7b/deployments\"},\"space_guid\":\"10417285-394c-4eb6-ac18-ce539d174909\",\"plan\":\"free\"}}\n", 
                    "name": "stdout"
                }
            ], 
            "execution_count": 31, 
            "metadata": {}, 
            "source": "endpoint_instance = service_path + \"/v3/wml_instances/\" + instance_id\nheader = {'Content-Type': 'application/json', 'Authorization': mltoken}\n\nresponse_get_instance = requests.get(endpoint_instance, headers=header)\nprint(response_get_instance)\nprint(response_get_instance.text)"
        }, 
        {
            "cell_type": "code", 
            "outputs": [
                {
                    "output_type": "stream", 
                    "text": "https://ibm-watson-ml.mybluemix.net/v3/wml_instances/b7b72556-67a9-4a68-84e7-a753c199ad7b/published_models\n", 
                    "name": "stdout"
                }
            ], 
            "execution_count": 32, 
            "metadata": {}, 
            "source": "endpoint_published_models = json.loads(response_get_instance.text).get('entity').get('published_models').get('url')\n\nprint(endpoint_published_models)"
        }, 
        {
            "cell_type": "markdown", 
            "source": "Execute the following sample code that uses the `published_models` endpoint to get the deployments URL.", 
            "metadata": {}
        }, 
        {
            "cell_type": "markdown", 
            "source": "#### Get the list of published models", 
            "metadata": {}
        }, 
        {
            "cell_type": "code", 
            "outputs": [
                {
                    "output_type": "stream", 
                    "text": "<Response [200]>\n{\"count\":2,\"resources\":[{\"metadata\":{\"guid\":\"7a9d778f-4405-4575-a086-fae69efba140\",\"url\":\"https://ibm-watson-ml.mybluemix.net/v3/wml_instances/b7b72556-67a9-4a68-84e7-a753c199ad7b/published_models/7a9d778f-4405-4575-a086-fae69efba140\",\"created_at\":\"2017-08-02T01:48:32.925Z\",\"modified_at\":\"2017-08-02T01:54:23.954Z\"},\"entity\":{\"runtime_environment\":\"spark-2.0\",\"author\":{},\"name\":\"Product Line Prediction\",\"label_col\":\"PRODUCT_LINE\",\"training_data_schema\":{\"fields\":[{\"metadata\":{},\"type\":\"string\",\"name\":\"PRODUCT_LINE\",\"nullable\":true},{\"metadata\":{},\"type\":\"string\",\"name\":\"GENDER\",\"nullable\":true},{\"metadata\":{},\"type\":\"integer\",\"name\":\"AGE\",\"nullable\":true},{\"metadata\":{},\"type\":\"string\",\"name\":\"MARITAL_STATUS\",\"nullable\":true},{\"metadata\":{},\"type\":\"string\",\"name\":\"PROFESSION\",\"nullable\":true}],\"type\":\"struct\"},\"latest_version\":{\"url\":\"https://ibm-watson-ml.mybluemix.net/v2/artifacts/models/7a9d778f-4405-4575-a086-fae69efba140/versions/6a5f0e55-e4aa-4745-bec6-9fd45fdf76b4\",\"guid\":\"6a5f0e55-e4aa-4745-bec6-9fd45fdf76b4\",\"created_at\":\"2017-08-02T01:48:33.015Z\"},\"model_type\":\"sparkml-model-2.0\",\"deployments\":{\"count\":1,\"url\":\"https://ibm-watson-ml.mybluemix.net/v3/wml_instances/b7b72556-67a9-4a68-84e7-a753c199ad7b/published_models/7a9d778f-4405-4575-a086-fae69efba140/deployments\"},\"deployed_version\":{\"url\":\"https://ibm-watson-ml.mybluemix.net/v2/artifacts/models/7a9d778f-4405-4575-a086-fae69efba140/versions/6a5f0e55-e4aa-4745-bec6-9fd45fdf76b4\",\"guid\":\"6a5f0e55-e4aa-4745-bec6-9fd45fdf76b4\",\"created_at\":\"2017-08-02T01:48:33.015Z\"},\"input_data_schema\":{\"fields\":[{\"metadata\":{},\"type\":\"string\",\"name\":\"GENDER\",\"nullable\":true},{\"metadata\":{},\"type\":\"integer\",\"name\":\"AGE\",\"nullable\":true},{\"metadata\":{},\"type\":\"string\",\"name\":\"MARITAL_STATUS\",\"nullable\":true},{\"metadata\":{},\"type\":\"string\",\"name\":\"PROFESSION\",\"nullable\":true}],\"type\":\"struct\"}}},{\"metadata\":{\"guid\":\"f4441c59-c1e2-444e-b1f8-c573413decbc\",\"url\":\"https://ibm-watson-ml.mybluemix.net/v3/wml_instances/b7b72556-67a9-4a68-84e7-a753c199ad7b/published_models/f4441c59-c1e2-444e-b1f8-c573413decbc\",\"created_at\":\"2017-08-03T11:28:33.176Z\",\"modified_at\":\"2017-08-03T11:28:33.250Z\"},\"entity\":{\"runtime_environment\":\"python-3.5\",\"author\":{\"name\":\"IBM\",\"email\":\"ibm@ibm.com\"},\"name\":\"Hand-written digits recognition\",\"latest_version\":{\"url\":\"https://ibm-watson-ml.mybluemix.net/v2/artifacts/models/f4441c59-c1e2-444e-b1f8-c573413decbc/versions/97648f79-2e65-4eb4-a71b-0fd255666d95\",\"guid\":\"97648f79-2e65-4eb4-a71b-0fd255666d95\",\"created_at\":\"2017-08-03T11:28:33.250Z\"},\"model_type\":\"scikit-model-0.17.1\",\"deployments\":{\"count\":0,\"url\":\"https://ibm-watson-ml.mybluemix.net/v3/wml_instances/b7b72556-67a9-4a68-84e7-a753c199ad7b/published_models/f4441c59-c1e2-444e-b1f8-c573413decbc/deployments\"}}}]}\n", 
                    "name": "stdout"
                }
            ], 
            "execution_count": 33, 
            "metadata": {}, 
            "source": "header = {'Content-Type': 'application/json', 'Authorization': mltoken}\nresponse_get = requests.get(endpoint_published_models, headers=header)\n\nprint(response_get)\nprint(response_get.text)"
        }, 
        {
            "cell_type": "markdown", 
            "source": "#### Get the published model deployment URL", 
            "metadata": {}
        }, 
        {
            "cell_type": "code", 
            "outputs": [
                {
                    "output_type": "stream", 
                    "text": "https://ibm-watson-ml.mybluemix.net/v3/wml_instances/b7b72556-67a9-4a68-84e7-a753c199ad7b/published_models/f4441c59-c1e2-444e-b1f8-c573413decbc/deployments\n", 
                    "name": "stdout"
                }
            ], 
            "execution_count": 34, 
            "metadata": {}, 
            "source": "[endpoint_deployments] = [x.get('entity').get('deployments').get('url') for x in json.loads(response_get.text).get('resources') if x.get('metadata').get('guid') == saved_model.uid]\n\nprint(endpoint_deployments)"
        }, 
        {
            "cell_type": "markdown", 
            "source": "#### Create an online deployment for the published model", 
            "metadata": {}
        }, 
        {
            "cell_type": "code", 
            "outputs": [
                {
                    "output_type": "stream", 
                    "text": "<Response [201]>\n{\"metadata\":{\"guid\":\"470cd0da-b88a-404a-a45d-912f11f1aeae\",\"url\":\"https://ibm-watson-ml.mybluemix.net/v3/wml_instances/b7b72556-67a9-4a68-84e7-a753c199ad7b/published_models/f4441c59-c1e2-444e-b1f8-c573413decbc/deployments/470cd0da-b88a-404a-a45d-912f11f1aeae\",\"created_at\":\"2017-08-03T11:32:36.746Z\",\"modified_at\":\"2017-08-03T11:32:37.853Z\"},\"entity\":{\"runtime_environment\":\"python-3.5\",\"name\":\"Hand written digits recognition\",\"scoring_url\":\"https://ibm-watson-ml.mybluemix.net/v3/wml_instances/b7b72556-67a9-4a68-84e7-a753c199ad7b/published_models/f4441c59-c1e2-444e-b1f8-c573413decbc/deployments/470cd0da-b88a-404a-a45d-912f11f1aeae/online\",\"description\":\"Hand Written Digits Deployment\",\"published_model\":{\"author\":{\"name\":\"IBM\",\"email\":\"ibm@ibm.com\"},\"name\":\"Hand-written digits recognition\",\"url\":\"https://ibm-watson-ml.mybluemix.net/v3/wml_instances/b7b72556-67a9-4a68-84e7-a753c199ad7b/published_models/f4441c59-c1e2-444e-b1f8-c573413decbc\",\"guid\":\"f4441c59-c1e2-444e-b1f8-c573413decbc\",\"created_at\":\"2017-08-03T11:32:36.709Z\"},\"model_type\":\"scikit-model-0.17.1\",\"status\":\"INITIALIZING\",\"type\":\"online\",\"deployed_version\":{\"url\":\"https://ibm-watson-ml.mybluemix.net/v2/artifacts/models/f4441c59-c1e2-444e-b1f8-c573413decbc/versions/97648f79-2e65-4eb4-a71b-0fd255666d95\",\"guid\":\"97648f79-2e65-4eb4-a71b-0fd255666d95\",\"created_at\":\"2017-08-03T11:28:33.250Z\"}}}\n", 
                    "name": "stdout"
                }
            ], 
            "execution_count": 35, 
            "metadata": {}, 
            "source": "payload_online = {\"name\": \"Hand written digits recognition\", \"description\": \"Hand Written Digits Deployment\", \"type\": \"online\"}\nresponse_online = requests.post(endpoint_deployments, json=payload_online, headers=header)\n\nprint(response_online)\nprint(response_online.text)"
        }, 
        {
            "cell_type": "code", 
            "outputs": [
                {
                    "output_type": "stream", 
                    "text": "https://ibm-watson-ml.mybluemix.net/v3/wml_instances/b7b72556-67a9-4a68-84e7-a753c199ad7b/published_models/f4441c59-c1e2-444e-b1f8-c573413decbc/deployments/470cd0da-b88a-404a-a45d-912f11f1aeae/online\n", 
                    "name": "stdout"
                }
            ], 
            "execution_count": 36, 
            "metadata": {}, 
            "source": "scoring_url = json.loads(response_online.text).get('entity').get('scoring_url')\n\nprint(scoring_url)"
        }, 
        {
            "cell_type": "markdown", 
            "source": " Now, you can send (POST) new scoring records (new data) for which you would like to get predictions. To do that, execute the following sample code: ", 
            "metadata": {}
        }, 
        {
            "cell_type": "code", 
            "outputs": [], 
            "execution_count": 43, 
            "metadata": {
                "collapsed": true
            }, 
            "source": "digit = list(digits.data[8])\ndigit2 = list(digits.data[2])"
        }, 
        {
            "cell_type": "code", 
            "outputs": [
                {
                    "output_type": "stream", 
                    "text": "{'values': [[0.0, 0.0, 9.0, 14.0, 8.0, 1.0, 0.0, 0.0, 0.0, 0.0, 12.0, 14.0, 14.0, 12.0, 0.0, 0.0, 0.0, 0.0, 9.0, 10.0, 0.0, 15.0, 4.0, 0.0, 0.0, 0.0, 3.0, 16.0, 12.0, 14.0, 2.0, 0.0, 0.0, 0.0, 4.0, 16.0, 16.0, 2.0, 0.0, 0.0, 0.0, 3.0, 16.0, 8.0, 10.0, 13.0, 2.0, 0.0, 0.0, 1.0, 15.0, 1.0, 3.0, 16.0, 8.0, 0.0, 0.0, 0.0, 11.0, 16.0, 15.0, 11.0, 1.0, 0.0], [0.0, 0.0, 0.0, 4.0, 15.0, 12.0, 0.0, 0.0, 0.0, 0.0, 3.0, 16.0, 15.0, 14.0, 0.0, 0.0, 0.0, 0.0, 8.0, 13.0, 8.0, 16.0, 0.0, 0.0, 0.0, 0.0, 1.0, 6.0, 15.0, 11.0, 0.0, 0.0, 0.0, 1.0, 8.0, 13.0, 15.0, 1.0, 0.0, 0.0, 0.0, 9.0, 16.0, 16.0, 5.0, 0.0, 0.0, 0.0, 0.0, 3.0, 13.0, 16.0, 16.0, 11.0, 5.0, 0.0, 0.0, 0.0, 0.0, 3.0, 11.0, 16.0, 9.0, 0.0]]}\n", 
                    "name": "stdout"
                }
            ], 
            "execution_count": 44, 
            "metadata": {}, 
            "source": "payload_scoring = {\"values\": [digit, digit2]}\nprint(payload_scoring)"
        }, 
        {
            "cell_type": "code", 
            "outputs": [
                {
                    "output_type": "stream", 
                    "text": "{\n  \"values\": [[8], [2]],\n  \"fields\": [\"prediction\"]\n}\n", 
                    "name": "stdout"
                }
            ], 
            "execution_count": 45, 
            "metadata": {}, 
            "source": "response_scoring = requests.post(scoring_url, json=payload_scoring, headers=header)\n\nprint(response_scoring.text)"
        }, 
        {
            "cell_type": "markdown", 
            "source": "As we can see we predict that hand-written digits are: 1 and 2.", 
            "metadata": {}
        }, 
        {
            "cell_type": "markdown", 
            "source": "<a id=\"summary\"></a>\n## 7. Summary and next steps     ", 
            "metadata": {
                "collapsed": true
            }
        }, 
        {
            "cell_type": "markdown", 
            "source": " You successfully completed this notebook! You learned how to use scikit-learn machine learning as well as Watson Machine Learning for model creation and deployment. Check out our [Online Documentation](https://console.ng.bluemix.net/docs/services/PredictiveModeling/index.html?pos=2) for more samples, tutorials, documentation, how-tos, and blog posts. ", 
            "metadata": {
                "collapsed": true
            }
        }, 
        {
            "cell_type": "markdown", 
            "source": "<a id=\"citations\"></a>\n### Citations\n\n[Scikit-learn: Machine Learning in Python](http://jmlr.csail.mit.edu/papers/v12/pedregosa11a.html), Pedregosa et al., JMLR 12, pp. 2825-2830, 2011\n\n[API design for machine learning software: experiences from the scikit-learn project](https://arxiv.org/abs/1309.0238), Buitinck et al., 2013.\n\n\n### Authors\n\n**Lukasz Cmielowski**, PhD, is a Automation Architect and Data Scientist in IBM with a track record of developing enterprise-level applications that substantially increases clients' ability to turn data into actionable knowledge.", 
            "metadata": {}
        }, 
        {
            "cell_type": "markdown", 
            "source": "Copyright \u00a9 2017 IBM. This notebook and its source code are released under the terms of the MIT License.", 
            "metadata": {}
        }
    ], 
    "nbformat": 4, 
    "metadata": {
        "kernelspec": {
            "language": "python", 
            "name": "python3-spark20", 
            "display_name": "Python 3.5 (Experimental) with Spark 2.0"
        }, 
        "language_info": {
            "version": "3.5.2", 
            "nbconvert_exporter": "python", 
            "mimetype": "text/x-python", 
            "name": "python", 
            "file_extension": ".py", 
            "pygments_lexer": "ipython3", 
            "codemirror_mode": {
                "version": 3, 
                "name": "ipython"
            }
        }
    }, 
    "nbformat_minor": 1
}